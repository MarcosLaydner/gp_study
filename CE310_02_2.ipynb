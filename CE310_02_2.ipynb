{
  "nbformat": 4,
  "nbformat_minor": 0,
  "metadata": {
    "kernelspec": {
      "display_name": "Python 3",
      "language": "python",
      "name": "python3"
    },
    "language_info": {
      "codemirror_mode": {
        "name": "ipython",
        "version": 3
      },
      "file_extension": ".py",
      "mimetype": "text/x-python",
      "name": "python",
      "nbconvert_exporter": "python",
      "pygments_lexer": "ipython3",
      "version": "3.7.3"
    },
    "colab": {
      "name": "CE310-02.2.ipynb",
      "provenance": [],
      "include_colab_link": true
    }
  },
  "cells": [
    {
      "cell_type": "markdown",
      "metadata": {
        "id": "view-in-github",
        "colab_type": "text"
      },
      "source": [
        "<a href=\"https://colab.research.google.com/github/MarcosLaydner/gp_study/blob/master/CE310_02_2.ipynb\" target=\"_parent\"><img src=\"https://colab.research.google.com/assets/colab-badge.svg\" alt=\"Open In Colab\"/></a>"
      ]
    },
    {
      "cell_type": "markdown",
      "metadata": {
        "id": "Xzw8BEJ1RgGg",
        "colab_type": "text"
      },
      "source": [
        "# Example Neuron (CE310-02.2, Slide 43)\n",
        "\n",
        "Find weights (w1 and w2) and bias (b) so that the neuron implements the Boolean OR function.\n",
        "\n",
        "Please modify this code in combination with CE310-02.1 to create a GA that solves the above problem using the follving parameters:\n",
        "- One-point crossover with pc = 0.7 \n",
        "- No mutation \n",
        "- Tournament selection (N = 2) \n",
        "- Chromosomes = strings e1e2e3 with ei in the set {-1, 0,1}\n",
        "- Fitness function = Umax − U(w1,w2, b), with Umax = 4\n",
        "\n",
        "Try different combinations for the parameters:\n",
        "- Number of individuals\n",
        "- Number of Generations"
      ]
    },
    {
      "cell_type": "code",
      "metadata": {
        "id": "21sFYjIrRgGl",
        "colab_type": "code",
        "outputId": "28922d2f-732a-447d-b8c3-6a4ec14348c9",
        "colab": {
          "base_uri": "https://localhost:8080/",
          "height": 527
        }
      },
      "source": [
        "def neuron(I1,I2,w1,w2,b):\n",
        "    net = w1*I1 + w2*I2 + b\n",
        "    if net > 0:\n",
        "        return 1\n",
        "    else:\n",
        "        return 0\n",
        "\n",
        "\n",
        "def fitness(e1,e2,e3):\n",
        "    T1 = 0\n",
        "    T2 = T3 = T4 = 1\n",
        "    O1=neuron(0,0,e1,e2,e3)\n",
        "    O2=neuron(0,1,e1,e2,e3)\n",
        "    O3=neuron(1,0,e1,e2,e3)\n",
        "    O4=neuron(1,1,e1,e2,e3)\n",
        "\n",
        "    return 4-(abs(O1-T1)+abs(O2-T2)+abs(O3-T3)+abs(O4-T4))\n",
        "\n",
        "\n",
        "\n",
        "print(fitness( 0, 0, 0))\n",
        "print(fitness(-1, 0, 0))\n",
        "print(fitness(-1, 0, 1))\n",
        "\n",
        "#for i in range(-1,2,1):\n",
        "#    for j in range(-1,2,1):\n",
        "#        for k in range(-1,2,1):\n",
        "#            print(i,j,k,fitness(i,j,k))\n"
      ],
      "execution_count": 0,
      "outputs": [
        {
          "output_type": "stream",
          "text": [
            "1\n",
            "1\n",
            "1\n",
            "-1 -1 -1 1\n",
            "-1 -1 0 1\n",
            "-1 -1 1 0\n",
            "-1 0 -1 1\n",
            "-1 0 0 1\n",
            "-1 0 1 1\n",
            "-1 1 -1 1\n",
            "-1 1 0 2\n",
            "-1 1 1 2\n",
            "0 -1 -1 1\n",
            "0 -1 0 1\n",
            "0 -1 1 1\n",
            "0 0 -1 1\n",
            "0 0 0 1\n",
            "0 0 1 3\n",
            "0 1 -1 1\n",
            "0 1 0 3\n",
            "0 1 1 3\n",
            "1 -1 -1 1\n",
            "1 -1 0 2\n",
            "1 -1 1 2\n",
            "1 0 -1 1\n",
            "1 0 0 3\n",
            "1 0 1 3\n",
            "1 1 -1 2\n",
            "1 1 0 4\n",
            "1 1 1 3\n"
          ],
          "name": "stdout"
        }
      ]
    },
    {
      "cell_type": "code",
      "metadata": {
        "id": "9wOIwBqrRgGx",
        "colab_type": "code",
        "colab": {}
      },
      "source": [
        ""
      ],
      "execution_count": 0,
      "outputs": []
    }
  ]
}